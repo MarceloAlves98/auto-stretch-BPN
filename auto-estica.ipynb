{
 "cells": [
  {
   "cell_type": "code",
   "execution_count": 7,
   "metadata": {},
   "outputs": [],
   "source": [
    "import os\n",
    "import shutil"
   ]
  },
  {
   "cell_type": "code",
   "execution_count": 8,
   "metadata": {},
   "outputs": [
    {
     "name": "stdout",
     "output_type": "stream",
     "text": [
      "/Users/marceloalvesferreira/Desktop/recipes2/biphenylene/auto-strain/0%\n"
     ]
    }
   ],
   "source": [
    "os.chdir('/Users/marceloalvesferreira/Desktop/recipes2/biphenylene/auto-strain/0%')\n",
    "\n",
    "print(os.getcwd())"
   ]
  },
  {
   "cell_type": "code",
   "execution_count": 9,
   "metadata": {},
   "outputs": [
    {
     "name": "stdout",
     "output_type": "stream",
     "text": [
      "/Users/marceloalvesferreira/Desktop/recipes2/biphenylene/auto-strain\n"
     ]
    }
   ],
   "source": [
    "os.chdir('/Users/marceloalvesferreira/Desktop/recipes2/biphenylene/auto-strain')\n",
    "\n",
    "print(os.getcwd())"
   ]
  },
  {
   "cell_type": "code",
   "execution_count": 10,
   "metadata": {},
   "outputs": [],
   "source": [
    "step = float(input(\"Qual step?\"))\n",
    "lim_sup = float(input(\"Ate onde?\"))\n",
    "y0 = 4.5159997940"
   ]
  },
  {
   "cell_type": "code",
   "execution_count": 11,
   "metadata": {},
   "outputs": [
    {
     "data": {
      "text/plain": [
       "['.DS_Store',\n",
       " '0%',\n",
       " 'auto-estica.ipynb',\n",
       " 'biphenylene.code-workspace',\n",
       " 'DOS.ipynb',\n",
       " 'esticar.ipynb']"
      ]
     },
     "execution_count": 11,
     "metadata": {},
     "output_type": "execute_result"
    }
   ],
   "source": [
    "os.listdir()"
   ]
  },
  {
   "cell_type": "code",
   "execution_count": 12,
   "metadata": {},
   "outputs": [
    {
     "data": {
      "text/plain": [
       "'1%'"
      ]
     },
     "execution_count": 12,
     "metadata": {},
     "output_type": "execute_result"
    }
   ],
   "source": [
    "# path to source directory\n",
    "src_dir = '0%'\n",
    "\n",
    "# path to destination directory\n",
    "dest_dir = '1%'\n",
    "\n",
    "# getting all the files in the source directory\n",
    "files = os.listdir(src_dir)\n",
    "\n",
    "shutil.copytree(src_dir, dest_dir)\n"
   ]
  },
  {
   "cell_type": "code",
   "execution_count": 18,
   "metadata": {},
   "outputs": [
    {
     "name": "stdout",
     "output_type": "stream",
     "text": [
      "[' 6  F\\n', ' C\\n', '    1  1    0.8015172655E+00    0.8406786478E+00    0.4999990971E+00\\n', '    2  1    0.1984606611E+00    0.1593219182E+00    0.4999991204E+00\\n', '    3  1    0.8015172635E+00    0.1593219176E+00    0.4999991048E+00\\n', '    4  1    0.1984606631E+00    0.8406786484E+00    0.4999991131E+00\\n', '    5  1    0.4999889640E+00    0.6620885037E+00    0.4999991117E+00\\n', '    6  1    0.4999889626E+00    0.3379120623E+00    0.4999991199E+00\\n', '    0.0000000000E+00    0.0000000000E+00    0.0000000000E+00\\n', '    0.3842677561E+01   -0.1070591109E-07   -0.8238199941E-10\\n', '   -0.8002590111E-08    0.4501461088E+01    0.2458364003E-10\\n', '   -0.8108066361E-11    0.2791658180E-11    0.4131200027E+02\\n']\n",
      "[' 6  F ', ' C ', '    1  1    0.8015172655E+00    0.8406786478E+00    0.4999990971E+00 ', '    2  1    0.1984606611E+00    0.1593219182E+00    0.4999991204E+00 ', '    3  1    0.8015172635E+00    0.1593219176E+00    0.4999991048E+00 ', '    4  1    0.1984606631E+00    0.8406786484E+00    0.4999991131E+00 ', '    5  1    0.4999889640E+00    0.6620885037E+00    0.4999991117E+00 ', '    6  1    0.4999889626E+00    0.3379120623E+00    0.4999991199E+00 ', '    0.0000000000E+00    0.0000000000E+00    0.0000000000E+00 ', '    0.3842677561E+01   -0.1070591109E-07   -0.8238199941E-10 ', '   -0.8002590111E-08    0.4501461088E+01    0.2458364003E-10 ', '   -0.8108066361E-11    0.2791658180E-11    0.4131200027E+02 ']\n"
     ]
    }
   ],
   "source": [
    "os.chdir('/Users/marceloalvesferreira/Desktop/recipes2/biphenylene/auto-strain/0%/DOS')\n",
    "\n",
    "GeomOut0 = []\n",
    "RemoveDash = []\n",
    "NewGeo = []\n",
    "\n",
    "with open('geom1.out.gen' , 'r') as f:\n",
    "    for line in f.readlines():\n",
    "        GeomOut0.append(line)\n",
    "\n",
    "print(GeomOut0)\n",
    "\n",
    "#Temos agora uma lista de strings com a geometria otimizada com 0% de stress\n",
    "#Queremos aumentar usar o out da geometria como input do proximo passo\n",
    "#Precisamos passar essa lista como novos strings\n",
    "\n",
    "#A lista GeomOut0 eh o output do primeiro passo, vamos deixar ela mais bonita\n",
    "\n",
    "for item in GeomOut0:\n",
    "    NewLine = item.replace(\"\\n\" , \" \")\n",
    "    RemoveDash.append(NewLine)\n",
    "\n",
    "print(RemoveDash)"
   ]
  },
  {
   "cell_type": "code",
   "execution_count": 14,
   "metadata": {},
   "outputs": [
    {
     "name": "stdout",
     "output_type": "stream",
     "text": [
      "[' 6  F ', ' C ', '    1  1    0.8015172655E+00    0.8406786478E+00    0.4999990971E+00 ', '    2  1    0.1984606611E+00    0.1593219182E+00    0.4999991204E+00 ', '    3  1    0.8015172635E+00    0.1593219176E+00    0.4999991048E+00 ', '    4  1    0.1984606631E+00    0.8406786484E+00    0.4999991131E+00 ', '    5  1    0.4999889640E+00    0.6620885037E+00    0.4999991117E+00 ', '    6  1    0.4999889626E+00    0.3379120623E+00    0.4999991199E+00 ', '    0.0000000000E+00    0.0000000000E+00    0.0000000000E+00 ', '    0.3842677561E+01   -0.1070591109E-07   -0.8238199941E-10 ', '   -0.8002590111E-08    0.4501461088E+01    0.2458364003E-10 ', '   -0.8108066361E-11    0.2791658180E-11    0.4131200027E+02 ']\n",
      "0.4501461088E+01\n"
     ]
    }
   ],
   "source": [
    "#Vamos criar a nova lista\n",
    "\n",
    "with open('newgeo.gen' , 'w') as g:\n",
    "    for line in RemoveDash:\n",
    "        g.write(line)\n",
    "        g.write(\"\\n\")\n",
    "\n",
    "print(RemoveDash)\n",
    "print(RemoveDash[10][24:40])"
   ]
  },
  {
   "cell_type": "code",
   "execution_count": 22,
   "metadata": {},
   "outputs": [
    {
     "name": "stdout",
     "output_type": "stream",
     "text": [
      "61\n",
      "4.501461088\n",
      "4.561159792\n"
     ]
    }
   ],
   "source": [
    "#Vamos esticar a molecula\n",
    "\n",
    "print(len(RemoveDash[10]))\n",
    "\n",
    "OldY = float(RemoveDash[10][24:40])\n",
    "print(OldY)\n",
    "\n",
    "NewY = str(round(y0 + (y0 * (step / 100)) , 9))\n",
    "print(NewY)\n",
    "\n",
    "#Temos o novo y da molecula"
   ]
  },
  {
   "cell_type": "code",
   "execution_count": 26,
   "metadata": {},
   "outputs": [
    {
     "name": "stdout",
     "output_type": "stream",
     "text": [
      "0.4501461088E+01\n"
     ]
    }
   ],
   "source": [
    "RemoveDash[10][24:40].replace(\"4.501461088\" , NewY)\n",
    "print(RemoveDash[10][24:40])"
   ]
  },
  {
   "cell_type": "code",
   "execution_count": null,
   "metadata": {},
   "outputs": [],
   "source": []
  }
 ],
 "metadata": {
  "kernelspec": {
   "display_name": "dftbplus",
   "language": "python",
   "name": "python3"
  },
  "language_info": {
   "codemirror_mode": {
    "name": "ipython",
    "version": 3
   },
   "file_extension": ".py",
   "mimetype": "text/x-python",
   "name": "python",
   "nbconvert_exporter": "python",
   "pygments_lexer": "ipython3",
   "version": "3.10.5"
  },
  "orig_nbformat": 4
 },
 "nbformat": 4,
 "nbformat_minor": 2
}
