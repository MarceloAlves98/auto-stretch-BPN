{
 "cells": [
  {
   "cell_type": "code",
   "execution_count": 21,
   "metadata": {},
   "outputs": [],
   "source": [
    "x = 3.7469999790\n",
    "y = 4.5159997940\n",
    "deform = int(input(\"Quanto deseja deformar (%)? \")) / 100"
   ]
  },
  {
   "cell_type": "code",
   "execution_count": 22,
   "metadata": {},
   "outputs": [
    {
     "name": "stdout",
     "output_type": "stream",
     "text": [
      "Novo x:  4.4963999748\n",
      "Novo y:  5.4191997528\n"
     ]
    }
   ],
   "source": [
    "deformX = x + (x * deform)\n",
    "deformY = y + (y * deform)\n",
    "\n",
    "print(\"Novo x: \" , deformX)\n",
    "print(\"Novo y: \" , deformY)"
   ]
  },
  {
   "cell_type": "code",
   "execution_count": null,
   "metadata": {},
   "outputs": [],
   "source": []
  }
 ],
 "metadata": {
  "kernelspec": {
   "display_name": "dftbplus",
   "language": "python",
   "name": "python3"
  },
  "language_info": {
   "codemirror_mode": {
    "name": "ipython",
    "version": 3
   },
   "file_extension": ".py",
   "mimetype": "text/x-python",
   "name": "python",
   "nbconvert_exporter": "python",
   "pygments_lexer": "ipython3",
   "version": "3.10.5"
  },
  "orig_nbformat": 4,
  "vscode": {
   "interpreter": {
    "hash": "ac0a8c890ce35786d3b68315ba0cda11418d23ff7aca3263bcf7c8ea9427c5ca"
   }
  }
 },
 "nbformat": 4,
 "nbformat_minor": 2
}
